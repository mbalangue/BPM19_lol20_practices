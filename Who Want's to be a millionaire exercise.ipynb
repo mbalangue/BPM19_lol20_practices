{
 "cells": [
  {
   "cell_type": "code",
   "execution_count": 84,
   "metadata": {
    "ExecuteTime": {
     "end_time": "2020-01-23T14:51:50.337566Z",
     "start_time": "2020-01-23T14:51:50.333405Z"
    }
   },
   "outputs": [
    {
     "name": "stdout",
     "output_type": "stream",
     "text": [
      "1021025.2500000002\n"
     ]
    }
   ],
   "source": [
    "# Practice 1\n",
    "\n",
    "# future value for a principal of 800k for 5 days at 5% interest\n",
    "\n",
    "def getbalance(initial_balance, num_days, annual_interest_rate):\n",
    "    balance = initial_balance * ((1 + (annual_interest_rate)) ** num_days) \n",
    "    \n",
    "\n",
    "    return balance\n",
    "\n",
    "\n",
    "print(getbalance(800000.00, 5, .05))\n",
    "\n",
    "\n"
   ]
  },
  {
   "cell_type": "code",
   "execution_count": 90,
   "metadata": {
    "ExecuteTime": {
     "end_time": "2020-01-23T15:02:53.725574Z",
     "start_time": "2020-01-23T15:02:53.720885Z"
    }
   },
   "outputs": [
    {
     "name": "stdout",
     "output_type": "stream",
     "text": [
      "1027202.7457175872\n"
     ]
    }
   ],
   "source": [
    "# Practice 2: following the formula of future value A = P(1 + r/n) ** (n * t)\n",
    "\n",
    "\n",
    "# future value for a principal of 800k for 5 days at 5% interest\n",
    "\n",
    "def getbalance(initial_balance, year_in_days, annual_interest_rate, num_days):\n",
    "    balance = initial_balance * (1 + (annual_interest_rate/year_in_days)) ** (num_days * year_in_days) \n",
    "    \n",
    "    return balance\n",
    "\n",
    "\n",
    "print(getbalance(800000.00, 365, .05, 5))\n",
    "\n",
    "\n"
   ]
  },
  {
   "cell_type": "code",
   "execution_count": 106,
   "metadata": {
    "ExecuteTime": {
     "end_time": "2020-01-23T15:06:22.927473Z",
     "start_time": "2020-01-23T15:06:22.922803Z"
    }
   },
   "outputs": [
    {
     "name": "stdout",
     "output_type": "stream",
     "text": [
      "1011936.2457713106\n"
     ]
    }
   ],
   "source": [
    "# Practice 3: following the formula of future value A = P(1 + r/n) ** (n*t)\n",
    "\n",
    "\n",
    "# future value for a principal of 1k for 173 days at 4% interest\n",
    "\n",
    "def getbalance(initial_balance, yr_in_days, annual_interest_rate, num_days):\n",
    "    balance = initial_balance * (1 + (annual_interest_rate/yr_in_days)) ** (num_days * yr_in_days) \n",
    "    \n",
    "    return balance\n",
    "\n",
    "\n",
    "print(getbalance(1000.00, 365, .04, 173))"
   ]
  },
  {
   "cell_type": "code",
   "execution_count": 111,
   "metadata": {
    "ExecuteTime": {
     "end_time": "2020-01-23T15:39:39.858667Z",
     "start_time": "2020-01-23T15:39:39.853350Z"
    }
   },
   "outputs": [
    {
     "name": "stdout",
     "output_type": "stream",
     "text": [
      "208634.90924265992\n"
     ]
    }
   ],
   "source": [
    "import numpy as np\n",
    "\n",
    "principal = 1000.00\n",
    "\n",
    "interest_rate = 0.05\n",
    "\n",
    "compounding_frequency_days = 365\n",
    "\n",
    "number_of_days = 5\n",
    "\n",
    "quarterly_payment = 100\n",
    "\n",
    "\n",
    "\n",
    "futureValue = np.fv(interest_rate/compounding_frequency_days, number_of_days * compounding_frequency_days, -quarterly_payment, -principal, when='begin')\n",
    "\n",
    "print(futureValue)\n"
   ]
  },
  {
   "cell_type": "code",
   "execution_count": null,
   "metadata": {},
   "outputs": [],
   "source": []
  }
 ],
 "metadata": {
  "kernelspec": {
   "display_name": "Python 3",
   "language": "python",
   "name": "python3"
  },
  "language_info": {
   "codemirror_mode": {
    "name": "ipython",
    "version": 3
   },
   "file_extension": ".py",
   "mimetype": "text/x-python",
   "name": "python",
   "nbconvert_exporter": "python",
   "pygments_lexer": "ipython3",
   "version": "3.7.4"
  }
 },
 "nbformat": 4,
 "nbformat_minor": 2
}
